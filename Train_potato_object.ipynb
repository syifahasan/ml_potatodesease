{
  "nbformat": 4,
  "nbformat_minor": 0,
  "metadata": {
    "colab": {
      "provenance": [],
      "authorship_tag": "ABX9TyOgaAtzy3lkoJVBQF0o5WvU",
      "include_colab_link": true
    },
    "kernelspec": {
      "name": "python3",
      "display_name": "Python 3"
    },
    "language_info": {
      "name": "python"
    }
  },
  "cells": [
    {
      "cell_type": "markdown",
      "metadata": {
        "id": "view-in-github",
        "colab_type": "text"
      },
      "source": [
        "<a href=\"https://colab.research.google.com/github/syifahasan/ml_potatodesease/blob/main/Train_potato_object.ipynb\" target=\"_parent\"><img src=\"https://colab.research.google.com/assets/colab-badge.svg\" alt=\"Open In Colab\"/></a>"
      ]
    },
    {
      "cell_type": "code",
      "execution_count": 12,
      "metadata": {
        "id": "6zA9LNjvivth"
      },
      "outputs": [],
      "source": [
        "import tensorflow as tf\n",
        "import matplotlib.pyplot as plt\n",
        "import pandas as pd\n",
        "import seaborn as sns"
      ]
    },
    {
      "cell_type": "code",
      "source": [
        "training_set = tf.keras.utils.image_dataset_from_directory(\n",
        "    '/content/ml_potatodesease/dataset/train',\n",
        "    labels=\"inferred\",\n",
        "    label_mode=\"categorical\",\n",
        "    class_names=None,\n",
        "    color_mode=\"rgb\",\n",
        "    batch_size=32,\n",
        "    image_size=(256, 256),\n",
        "    shuffle=True,\n",
        "    seed=None,\n",
        "    validation_split=None,\n",
        "    subset=None,\n",
        "    interpolation=\"bilinear\",\n",
        "    follow_links=False,\n",
        "    crop_to_aspect_ratio=False,\n",
        "    pad_to_aspect_ratio=False,\n",
        "    verbose=True,\n",
        ")"
      ],
      "metadata": {
        "id": "4IcJ8Y6f0mgK",
        "outputId": "37e9ab3e-79b4-4618-ccf9-b4b0d682086a",
        "colab": {
          "base_uri": "https://localhost:8080/"
        }
      },
      "execution_count": 6,
      "outputs": [
        {
          "output_type": "stream",
          "name": "stdout",
          "text": [
            "Found 3115 files belonging to 36 classes.\n"
          ]
        }
      ]
    },
    {
      "cell_type": "code",
      "source": [
        "valid_set = tf.keras.utils.image_dataset_from_directory(\n",
        "    '/content/ml_potatodesease/dataset/validation',\n",
        "    labels=\"inferred\",\n",
        "    label_mode=\"categorical\",\n",
        "    class_names=None,\n",
        "    color_mode=\"rgb\",\n",
        "    batch_size=32,\n",
        "    image_size=(256, 256),\n",
        "    shuffle=True,\n",
        "    seed=None,\n",
        "    validation_split=None,\n",
        "    subset=None,\n",
        "    interpolation=\"bilinear\",\n",
        "    follow_links=False,\n",
        "    crop_to_aspect_ratio=False,\n",
        "    pad_to_aspect_ratio=False,\n",
        "    data_format=None,\n",
        "    verbose=True,\n",
        ")"
      ],
      "metadata": {
        "id": "pmt1n_oNP5gV",
        "outputId": "e9b13ccd-c854-4a97-8a43-531ced9f552f",
        "colab": {
          "base_uri": "https://localhost:8080/"
        }
      },
      "execution_count": 7,
      "outputs": [
        {
          "output_type": "stream",
          "name": "stdout",
          "text": [
            "Found 351 files belonging to 36 classes.\n"
          ]
        }
      ]
    },
    {
      "cell_type": "code",
      "source": [
        "training_set"
      ],
      "metadata": {
        "id": "MI41tbwnk3bM",
        "outputId": "7b89d220-8433-4d44-aeff-a7e5acc9baec",
        "colab": {
          "base_uri": "https://localhost:8080/"
        }
      },
      "execution_count": 8,
      "outputs": [
        {
          "output_type": "execute_result",
          "data": {
            "text/plain": [
              "<_PrefetchDataset element_spec=(TensorSpec(shape=(None, 256, 256, 3), dtype=tf.float32, name=None), TensorSpec(shape=(None, 36), dtype=tf.float32, name=None))>"
            ]
          },
          "metadata": {},
          "execution_count": 8
        }
      ]
    },
    {
      "cell_type": "code",
      "source": [
        "for x, y in training_set:\n",
        "  print(x,x.shape)\n",
        "  print(y,y.shape)\n",
        "  break"
      ],
      "metadata": {
        "id": "Mt7ioZwvnomM"
      },
      "execution_count": null,
      "outputs": []
    },
    {
      "cell_type": "markdown",
      "source": [
        "### Building Model"
      ],
      "metadata": {
        "id": "Mkg3SZCt29SG"
      }
    },
    {
      "cell_type": "code",
      "source": [
        "from tensorflow.keras.layers import Dense,Conv2D,MaxPool2D\n",
        "from tensorflow.keras.models import Sequential"
      ],
      "metadata": {
        "id": "HjfdQ-1Z2lyZ"
      },
      "execution_count": 17,
      "outputs": []
    },
    {
      "cell_type": "code",
      "source": [
        "model = Sequential()"
      ],
      "metadata": {
        "id": "xGyy9Sbk3PUr"
      },
      "execution_count": null,
      "outputs": []
    },
    {
      "cell_type": "code",
      "source": [
        "## Building convolution layer"
      ],
      "metadata": {
        "id": "WvxzEMeZ3SrV"
      },
      "execution_count": null,
      "outputs": []
    },
    {
      "cell_type": "code",
      "source": [
        "model.add(Conv2d(filter=32, kernel_size=3, padding='same', activation='relu', input_shape=[256, 256, 3]))\n",
        "model.add(Conv2d(filter=32, kernel_size=3, padding='same', activation='relu'))\n",
        "model.add(MaxPool2D(pool_size=2, strides=2))"
      ],
      "metadata": {
        "id": "1NKnyoud3XNI"
      },
      "execution_count": null,
      "outputs": []
    },
    {
      "cell_type": "code",
      "source": [
        "model.add(Conv2d(filter=64, kernel_size=3, padding='same', activation='relu', input_shape=[256, 256, 3]))\n",
        "model.add(Conv2d(filter=64, kernel_size=3, padding='same', activation='relu'))\n",
        "model.add(MaxPool2D(pool_size=2, strides=2))"
      ],
      "metadata": {
        "id": "mcryucI34XtK"
      },
      "execution_count": null,
      "outputs": []
    },
    {
      "cell_type": "code",
      "source": [
        "model.add(Conv2d(filter=128, kernel_size=3, padding='same', activation='relu', input_shape=[256, 256, 3]))\n",
        "model.add(Conv2d(filter=128, kernel_size=3, padding='same', activation='relu'))\n",
        "model.add(MaxPool2D(pool_size=2, strides=2))"
      ],
      "metadata": {
        "id": "oZEDPOpW4kF3"
      },
      "execution_count": null,
      "outputs": []
    },
    {
      "cell_type": "code",
      "source": [
        "model.add(Conv2d(filter=256, kernel_size=3, padding='same', activation='relu', input_shape=[256, 256, 3]))\n",
        "model.add(Conv2d(filter=256, kernel_size=3, padding='same', activation='relu'))\n",
        "model.add(MaxPool2D(pool_size=2, strides=2))"
      ],
      "metadata": {
        "id": "7YRs_C2b4mLK"
      },
      "execution_count": null,
      "outputs": []
    },
    {
      "cell_type": "code",
      "source": [
        "model.add(Flatten())"
      ],
      "metadata": {
        "id": "dQ3oiPzl4pzl"
      },
      "execution_count": null,
      "outputs": []
    },
    {
      "cell_type": "code",
      "source": [
        "model.add(Dense(units=1024, activation='relu'))"
      ],
      "metadata": {
        "id": "vLpIWaC84tG4"
      },
      "execution_count": null,
      "outputs": []
    },
    {
      "cell_type": "code",
      "source": [
        "## Output Layer\n",
        "model.add(Dense(units=36, activation='softmax'))"
      ],
      "metadata": {
        "id": "WStud4S35Gxp"
      },
      "execution_count": null,
      "outputs": []
    }
  ]
}