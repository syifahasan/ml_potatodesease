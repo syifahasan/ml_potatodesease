{
  "nbformat": 4,
  "nbformat_minor": 0,
  "metadata": {
    "colab": {
      "provenance": [],
      "authorship_tag": "ABX9TyMQn7/vPJqcXOIa9SjL/X83",
      "include_colab_link": true
    },
    "kernelspec": {
      "name": "python3",
      "display_name": "Python 3"
    },
    "language_info": {
      "name": "python"
    }
  },
  "cells": [
    {
      "cell_type": "markdown",
      "metadata": {
        "id": "view-in-github",
        "colab_type": "text"
      },
      "source": [
        "<a href=\"https://colab.research.google.com/github/syifahasan/ml_potatodesease/blob/main/Train_potato_object.ipynb\" target=\"_parent\"><img src=\"https://colab.research.google.com/assets/colab-badge.svg\" alt=\"Open In Colab\"/></a>"
      ]
    },
    {
      "cell_type": "code",
      "execution_count": 86,
      "metadata": {
        "id": "6zA9LNjvivth"
      },
      "outputs": [],
      "source": [
        "import tensorflow as tf\n",
        "import matplotlib.pyplot as plt\n",
        "import pandas as pd\n",
        "import seaborn as sns"
      ]
    },
    {
      "cell_type": "code",
      "source": [
        "training_set = tf.keras.utils.image_dataset_from_directory(\n",
        "    '/content/ml_potatodesease/dataset/train',\n",
        "    labels=\"inferred\",\n",
        "    label_mode=\"categorical\",\n",
        "    class_names=None,\n",
        "    color_mode=\"rgb\",\n",
        "    batch_size=32,\n",
        "    image_size=(128, 128),\n",
        "    shuffle=True,\n",
        "    seed=None,\n",
        "    validation_split=None,\n",
        "    subset=None,\n",
        "    interpolation=\"bilinear\",\n",
        "    follow_links=False,\n",
        "    crop_to_aspect_ratio=False,\n",
        "    pad_to_aspect_ratio=False,\n",
        "    verbose=True,\n",
        ")"
      ],
      "metadata": {
        "id": "4IcJ8Y6f0mgK",
        "outputId": "7ce15144-af06-4bc7-bf33-5d9017a7a821",
        "colab": {
          "base_uri": "https://localhost:8080/"
        }
      },
      "execution_count": 87,
      "outputs": [
        {
          "output_type": "stream",
          "name": "stdout",
          "text": [
            "Found 3115 files belonging to 36 classes.\n"
          ]
        }
      ]
    },
    {
      "cell_type": "code",
      "source": [
        "valid_set = tf.keras.utils.image_dataset_from_directory(\n",
        "    '/content/ml_potatodesease/dataset/validation',\n",
        "    labels=\"inferred\",\n",
        "    label_mode=\"categorical\",\n",
        "    class_names=None,\n",
        "    color_mode=\"rgb\",\n",
        "    batch_size=32,\n",
        "    image_size=(128, 128),\n",
        "    shuffle=True,\n",
        "    seed=None,\n",
        "    validation_split=None,\n",
        "    subset=None,\n",
        "    interpolation=\"bilinear\",\n",
        "    follow_links=False,\n",
        "    crop_to_aspect_ratio=False,\n",
        "    pad_to_aspect_ratio=False,\n",
        "    data_format=None,\n",
        "    verbose=True,\n",
        ")"
      ],
      "metadata": {
        "id": "pmt1n_oNP5gV",
        "outputId": "7df064f3-ae88-42f4-b0d0-99fa43f800eb",
        "colab": {
          "base_uri": "https://localhost:8080/"
        }
      },
      "execution_count": 88,
      "outputs": [
        {
          "output_type": "stream",
          "name": "stdout",
          "text": [
            "Found 351 files belonging to 36 classes.\n"
          ]
        }
      ]
    },
    {
      "cell_type": "code",
      "source": [
        "training_set"
      ],
      "metadata": {
        "id": "MI41tbwnk3bM",
        "outputId": "4f49d0ca-6b69-4795-b331-ebcab9712c21",
        "colab": {
          "base_uri": "https://localhost:8080/"
        }
      },
      "execution_count": 89,
      "outputs": [
        {
          "output_type": "execute_result",
          "data": {
            "text/plain": [
              "<_PrefetchDataset element_spec=(TensorSpec(shape=(None, 128, 128, 3), dtype=tf.float32, name=None), TensorSpec(shape=(None, 36), dtype=tf.float32, name=None))>"
            ]
          },
          "metadata": {},
          "execution_count": 89
        }
      ]
    },
    {
      "cell_type": "code",
      "source": [
        "for x, y in training_set:\n",
        "  print(x,x.shape)\n",
        "  print(y,y.shape)\n",
        "  break"
      ],
      "metadata": {
        "id": "Mt7ioZwvnomM",
        "outputId": "b115ce41-c2ae-4b2d-e2b1-97758bb9b0a0",
        "colab": {
          "base_uri": "https://localhost:8080/"
        }
      },
      "execution_count": 90,
      "outputs": [
        {
          "output_type": "stream",
          "name": "stdout",
          "text": [
            "tf.Tensor(\n",
            "[[[[255.        255.        255.       ]\n",
            "   [255.        255.        255.       ]\n",
            "   [255.        255.        255.       ]\n",
            "   ...\n",
            "   [255.        255.        255.       ]\n",
            "   [255.        255.        255.       ]\n",
            "   [255.        255.        255.       ]]\n",
            "\n",
            "  [[255.        255.        255.       ]\n",
            "   [255.        255.        255.       ]\n",
            "   [255.        255.        255.       ]\n",
            "   ...\n",
            "   [255.        255.        255.       ]\n",
            "   [255.        255.        255.       ]\n",
            "   [255.        255.        255.       ]]\n",
            "\n",
            "  [[255.        255.        255.       ]\n",
            "   [255.        255.        255.       ]\n",
            "   [255.        255.        255.       ]\n",
            "   ...\n",
            "   [255.        255.        255.       ]\n",
            "   [255.        255.        255.       ]\n",
            "   [255.        255.        255.       ]]\n",
            "\n",
            "  ...\n",
            "\n",
            "  [[255.        255.        255.       ]\n",
            "   [255.        255.        255.       ]\n",
            "   [255.        255.        255.       ]\n",
            "   ...\n",
            "   [255.        255.        255.       ]\n",
            "   [255.        255.        255.       ]\n",
            "   [255.        255.        255.       ]]\n",
            "\n",
            "  [[255.        255.        255.       ]\n",
            "   [255.        255.        255.       ]\n",
            "   [255.        255.        255.       ]\n",
            "   ...\n",
            "   [255.        255.        255.       ]\n",
            "   [255.        255.        255.       ]\n",
            "   [255.        255.        255.       ]]\n",
            "\n",
            "  [[255.        255.        255.       ]\n",
            "   [255.        255.        255.       ]\n",
            "   [255.        255.        255.       ]\n",
            "   ...\n",
            "   [255.        255.        255.       ]\n",
            "   [255.        255.        255.       ]\n",
            "   [255.        255.        255.       ]]]\n",
            "\n",
            "\n",
            " [[[255.        255.        255.       ]\n",
            "   [255.        255.        255.       ]\n",
            "   [255.        255.        255.       ]\n",
            "   ...\n",
            "   [255.        255.        255.       ]\n",
            "   [255.        255.        255.       ]\n",
            "   [255.        255.        255.       ]]\n",
            "\n",
            "  [[255.        255.        255.       ]\n",
            "   [255.        255.        255.       ]\n",
            "   [255.        255.        255.       ]\n",
            "   ...\n",
            "   [255.        255.        255.       ]\n",
            "   [255.        255.        255.       ]\n",
            "   [255.        255.        255.       ]]\n",
            "\n",
            "  [[255.        255.        255.       ]\n",
            "   [255.        255.        255.       ]\n",
            "   [255.        255.        255.       ]\n",
            "   ...\n",
            "   [255.        255.        255.       ]\n",
            "   [255.        255.        255.       ]\n",
            "   [255.        255.        255.       ]]\n",
            "\n",
            "  ...\n",
            "\n",
            "  [[255.        255.        255.       ]\n",
            "   [255.        255.        255.       ]\n",
            "   [255.        255.        255.       ]\n",
            "   ...\n",
            "   [255.        255.        255.       ]\n",
            "   [255.        255.        255.       ]\n",
            "   [255.        255.        255.       ]]\n",
            "\n",
            "  [[255.        255.        255.       ]\n",
            "   [255.        255.        255.       ]\n",
            "   [255.        255.        255.       ]\n",
            "   ...\n",
            "   [255.        255.        255.       ]\n",
            "   [255.        255.        255.       ]\n",
            "   [255.        255.        255.       ]]\n",
            "\n",
            "  [[255.        255.        255.       ]\n",
            "   [255.        255.        255.       ]\n",
            "   [255.        255.        255.       ]\n",
            "   ...\n",
            "   [255.        255.        255.       ]\n",
            "   [255.        255.        255.       ]\n",
            "   [255.        255.        255.       ]]]\n",
            "\n",
            "\n",
            " [[[104.078735  126.58374    53.71765  ]\n",
            "   [128.3086    145.32031    85.578125 ]\n",
            "   [147.49219   160.96484   113.66174  ]\n",
            "   ...\n",
            "   [ 81.56714   128.3617     27.486694 ]\n",
            "   [ 65.27942   119.689575    8.416138 ]\n",
            "   [ 66.66016   125.90234     3.5234375]]\n",
            "\n",
            "  [[ 67.472046  103.940796   14.097046 ]\n",
            "   [ 70.86328   104.33203    14.945068 ]\n",
            "   [ 74.47522   105.22351    14.92749  ]\n",
            "   ...\n",
            "   [ 75.08508   130.40149    11.486572 ]\n",
            "   [ 77.94324   129.7461     18.400024 ]\n",
            "   [ 70.47595   124.47595     1.8365479]]\n",
            "\n",
            "  [[ 57.775024   99.39612    18.532837 ]\n",
            "   [ 62.40625   101.40625    19.704834 ]\n",
            "   [ 67.90234   104.874756   21.42566  ]\n",
            "   ...\n",
            "   [ 85.33655   137.85571    49.12195  ]\n",
            "   [ 78.084595  125.62366    22.268188 ]\n",
            "   [ 68.19141   116.00391     2.0273438]]\n",
            "\n",
            "  ...\n",
            "\n",
            "  [[221.40625   221.40625   221.40625  ]\n",
            "   [226.        226.        226.       ]\n",
            "   [224.74207   224.74207   224.74207  ]\n",
            "   ...\n",
            "   [234.        234.        234.       ]\n",
            "   [234.        234.        234.       ]\n",
            "   [236.        236.        236.       ]]\n",
            "\n",
            "  [[223.6875    223.6875    223.6875   ]\n",
            "   [225.97864   225.97864   225.97864  ]\n",
            "   [227.87805   227.87805   227.87805  ]\n",
            "   ...\n",
            "   [235.        235.        235.       ]\n",
            "   [235.        235.        235.       ]\n",
            "   [234.33923   234.33923   234.33923  ]]\n",
            "\n",
            "  [[225.5625    225.5625    225.5625   ]\n",
            "   [227.2428    227.2428    227.2428   ]\n",
            "   [229.10547   229.10547   229.10547  ]\n",
            "   ...\n",
            "   [235.        235.        235.       ]\n",
            "   [235.        235.        235.       ]\n",
            "   [234.15515   234.15515   234.15515  ]]]\n",
            "\n",
            "\n",
            " ...\n",
            "\n",
            "\n",
            " [[[214.35645   145.35645    15.356445 ]\n",
            "   [220.52246   151.52246    21.52246  ]\n",
            "   [213.125     146.125      15.125    ]\n",
            "   ...\n",
            "   [252.9668    218.98242    82.93555  ]\n",
            "   [253.99121   218.97559    77.006836 ]\n",
            "   [252.81543   216.81543    78.44629  ]]\n",
            "\n",
            "  [[218.1875    149.1875     19.1875   ]\n",
            "   [216.73438   147.73438    17.734375 ]\n",
            "   [204.83301   137.83301     6.833008 ]\n",
            "   ...\n",
            "   [251.03125   219.03125    76.03125  ]\n",
            "   [254.4375    218.4375     80.4375   ]\n",
            "   [254.99121   219.76562    83.765625 ]]\n",
            "\n",
            "  [[215.3457    153.18945    20.267578 ]\n",
            "   [217.4961    150.4961     17.652344 ]\n",
            "   [220.82324   153.82324    20.823242 ]\n",
            "   ...\n",
            "   [250.98438   218.0625     79.21875  ]\n",
            "   [254.39648   218.2373     83.40332  ]\n",
            "   [254.8291    218.06348    85.98535  ]]\n",
            "\n",
            "  ...\n",
            "\n",
            "  [[210.07812   143.07812    26.234375 ]\n",
            "   [211.72852   144.72852    27.728516 ]\n",
            "   [214.14648   158.14648    35.146484 ]\n",
            "   ...\n",
            "   [250.20312   211.89062    78.8125   ]\n",
            "   [254.59668   218.47461    82.60254  ]\n",
            "   [251.2334    221.38965    90.43457  ]]\n",
            "\n",
            "  [[210.98828   141.98828    20.988281 ]\n",
            "   [211.83984   142.83984    25.839844 ]\n",
            "   [208.88477   148.85938    26.87207  ]\n",
            "   ...\n",
            "   [254.90918   225.8623    103.768555 ]\n",
            "   [255.        221.97363   100.43262  ]\n",
            "   [254.96191   226.92383   101.69824  ]]\n",
            "\n",
            "  [[196.73633   123.73633    10.736328 ]\n",
            "   [207.78613   135.91113    22.317383 ]\n",
            "   [210.85449   134.87012    22.823242 ]\n",
            "   ...\n",
            "   [254.01367   224.98145    99.02832  ]\n",
            "   [251.41504   226.3457    100.359375 ]\n",
            "   [249.85547   216.20898    93.65625  ]]]\n",
            "\n",
            "\n",
            " [[[255.        255.        255.       ]\n",
            "   [255.        255.        255.       ]\n",
            "   [255.        255.        255.       ]\n",
            "   ...\n",
            "   [255.        255.        255.       ]\n",
            "   [255.        255.        255.       ]\n",
            "   [255.        255.        255.       ]]\n",
            "\n",
            "  [[255.        255.        255.       ]\n",
            "   [255.        255.        255.       ]\n",
            "   [255.        255.        255.       ]\n",
            "   ...\n",
            "   [255.        255.        255.       ]\n",
            "   [255.        255.        255.       ]\n",
            "   [255.        255.        255.       ]]\n",
            "\n",
            "  [[255.        255.        255.       ]\n",
            "   [255.        255.        255.       ]\n",
            "   [255.        255.        255.       ]\n",
            "   ...\n",
            "   [255.        255.        255.       ]\n",
            "   [255.        255.        255.       ]\n",
            "   [255.        255.        255.       ]]\n",
            "\n",
            "  ...\n",
            "\n",
            "  [[255.        255.        255.       ]\n",
            "   [255.        255.        255.       ]\n",
            "   [255.        255.        255.       ]\n",
            "   ...\n",
            "   [255.        255.        255.       ]\n",
            "   [255.        255.        255.       ]\n",
            "   [255.        255.        255.       ]]\n",
            "\n",
            "  [[255.        255.        255.       ]\n",
            "   [255.        255.        255.       ]\n",
            "   [255.        255.        255.       ]\n",
            "   ...\n",
            "   [255.        255.        255.       ]\n",
            "   [255.        255.        255.       ]\n",
            "   [255.        255.        255.       ]]\n",
            "\n",
            "  [[255.        255.        255.       ]\n",
            "   [255.        255.        255.       ]\n",
            "   [255.        255.        255.       ]\n",
            "   ...\n",
            "   [255.        255.        255.       ]\n",
            "   [255.        255.        255.       ]\n",
            "   [255.        255.        255.       ]]]\n",
            "\n",
            "\n",
            " [[[217.25      214.25      169.25     ]\n",
            "   [217.25      214.75      168.25     ]\n",
            "   [215.25      213.25      164.25     ]\n",
            "   ...\n",
            "   [135.75      161.75       96.75     ]\n",
            "   [144.25      166.75       94.25     ]\n",
            "   [149.5       171.5        98.5      ]]\n",
            "\n",
            "  [[222.        219.        174.       ]\n",
            "   [221.75      219.25      172.75     ]\n",
            "   [221.75      219.75      170.75     ]\n",
            "   ...\n",
            "   [131.625     157.625      92.625    ]\n",
            "   [139.75      162.25       89.75     ]\n",
            "   [143.75      165.75       92.75     ]]\n",
            "\n",
            "  [[225.        223.        174.       ]\n",
            "   [225.        223.        174.       ]\n",
            "   [223.25      221.25      172.25     ]\n",
            "   ...\n",
            "   [124.75      149.75       91.75     ]\n",
            "   [127.25      153.25       89.25     ]\n",
            "   [135.875     161.875      96.875    ]]\n",
            "\n",
            "  ...\n",
            "\n",
            "  [[189.25      177.25      191.25     ]\n",
            "   [185.5       173.5       186.5      ]\n",
            "   [178.125     167.125     175.125    ]\n",
            "   ...\n",
            "   [163.        158.        162.       ]\n",
            "   [164.        159.        165.       ]\n",
            "   [166.625     161.625     167.625    ]]\n",
            "\n",
            "  [[207.5       191.5       201.5      ]\n",
            "   [204.25      189.75      199.25     ]\n",
            "   [214.75      203.75      211.75     ]\n",
            "   ...\n",
            "   [112.5       101.25      105.       ]\n",
            "   [110.25       92.25       98.25     ]\n",
            "   [105.         86.         92.       ]]\n",
            "\n",
            "  [[211.25      195.25      205.25     ]\n",
            "   [216.        201.5       211.       ]\n",
            "   [214.25      203.25      211.25     ]\n",
            "   ...\n",
            "   [125.875     110.125     115.625    ]\n",
            "   [121.875     111.625     115.25     ]\n",
            "   [133.        123.5       126.75     ]]]], shape=(32, 128, 128, 3), dtype=float32) (32, 128, 128, 3)\n",
            "tf.Tensor(\n",
            "[[0. 0. 1. ... 0. 0. 0.]\n",
            " [0. 0. 0. ... 0. 0. 0.]\n",
            " [0. 0. 0. ... 0. 0. 0.]\n",
            " ...\n",
            " [0. 0. 0. ... 0. 0. 0.]\n",
            " [0. 0. 0. ... 0. 0. 0.]\n",
            " [0. 0. 0. ... 0. 0. 0.]], shape=(32, 36), dtype=float32) (32, 36)\n"
          ]
        }
      ]
    },
    {
      "cell_type": "markdown",
      "source": [
        "### Building Model"
      ],
      "metadata": {
        "id": "Mkg3SZCt29SG"
      }
    },
    {
      "cell_type": "code",
      "source": [
        "from tensorflow.keras.layers import Dense,Conv2D,MaxPool2D,Flatten,Dropout\n",
        "from tensorflow.keras.models import Sequential"
      ],
      "metadata": {
        "id": "HjfdQ-1Z2lyZ"
      },
      "execution_count": 91,
      "outputs": []
    },
    {
      "cell_type": "code",
      "source": [
        "model = Sequential()"
      ],
      "metadata": {
        "id": "xGyy9Sbk3PUr"
      },
      "execution_count": 92,
      "outputs": []
    },
    {
      "cell_type": "code",
      "source": [
        "## Building convolution layer"
      ],
      "metadata": {
        "id": "WvxzEMeZ3SrV"
      },
      "execution_count": 93,
      "outputs": []
    },
    {
      "cell_type": "code",
      "source": [
        "model.add(Conv2D(filters=32, kernel_size=3, padding='same', activation='relu', input_shape=[128, 128, 3]))\n",
        "model.add(Conv2D(filters=32, kernel_size=3, activation='relu'))\n",
        "model.add(MaxPool2D(pool_size=2, strides=2))"
      ],
      "metadata": {
        "id": "1NKnyoud3XNI",
        "outputId": "7bf6f6f2-7675-4cb4-9e28-8511091c26a9",
        "colab": {
          "base_uri": "https://localhost:8080/"
        }
      },
      "execution_count": 94,
      "outputs": [
        {
          "output_type": "stream",
          "name": "stderr",
          "text": [
            "/usr/local/lib/python3.10/dist-packages/keras/src/layers/convolutional/base_conv.py:107: UserWarning: Do not pass an `input_shape`/`input_dim` argument to a layer. When using Sequential models, prefer using an `Input(shape)` object as the first layer in the model instead.\n",
            "  super().__init__(activity_regularizer=activity_regularizer, **kwargs)\n"
          ]
        }
      ]
    },
    {
      "cell_type": "code",
      "source": [
        "model.add(Conv2D(filters=64, kernel_size=3, padding='same', activation='relu'))\n",
        "model.add(Conv2D(filters=64, kernel_size=3, activation='relu'))\n",
        "model.add(MaxPool2D(pool_size=2, strides=2))"
      ],
      "metadata": {
        "id": "mcryucI34XtK"
      },
      "execution_count": 95,
      "outputs": []
    },
    {
      "cell_type": "code",
      "source": [
        "model.add(Conv2D(filters=128, kernel_size=3, padding='same', activation='relu'))\n",
        "model.add(Conv2D(filters=128, kernel_size=3, activation='relu'))\n",
        "model.add(MaxPool2D(pool_size=2, strides=2))"
      ],
      "metadata": {
        "id": "oZEDPOpW4kF3"
      },
      "execution_count": 96,
      "outputs": []
    },
    {
      "cell_type": "code",
      "source": [
        "model.add(Conv2D(filters=256, kernel_size=3, padding='same', activation='relu'))\n",
        "model.add(Conv2D(filters=256, kernel_size=3, activation='relu'))\n",
        "model.add(MaxPool2D(pool_size=2, strides=2))"
      ],
      "metadata": {
        "id": "7YRs_C2b4mLK"
      },
      "execution_count": 97,
      "outputs": []
    },
    {
      "cell_type": "code",
      "source": [
        "model.add(Conv2D(filters=512, kernel_size=3, padding='same', activation='relu'))\n",
        "model.add(Conv2D(filters=512, kernel_size=3, activation='relu'))\n",
        "model.add(MaxPool2D(pool_size=2, strides=2))"
      ],
      "metadata": {
        "id": "qBzcnr4GuPRU"
      },
      "execution_count": 98,
      "outputs": []
    },
    {
      "cell_type": "code",
      "source": [
        "model.add(Dropout(0.25))"
      ],
      "metadata": {
        "id": "4Ueq1oq1upcH"
      },
      "execution_count": 99,
      "outputs": []
    },
    {
      "cell_type": "code",
      "source": [
        "model.add(Flatten())"
      ],
      "metadata": {
        "id": "dQ3oiPzl4pzl"
      },
      "execution_count": 100,
      "outputs": []
    },
    {
      "cell_type": "code",
      "source": [
        "model.add(Dense(units=1500, activation='relu'))"
      ],
      "metadata": {
        "id": "vLpIWaC84tG4"
      },
      "execution_count": 101,
      "outputs": []
    },
    {
      "cell_type": "code",
      "source": [
        "model.add(Dropout(0.4))"
      ],
      "metadata": {
        "id": "cS7ddNpIuvvU"
      },
      "execution_count": 102,
      "outputs": []
    },
    {
      "cell_type": "code",
      "source": [
        "## Output Layer\n",
        "model.add(Dense(units=36, activation='softmax'))"
      ],
      "metadata": {
        "id": "WStud4S35Gxp"
      },
      "execution_count": 103,
      "outputs": []
    },
    {
      "cell_type": "markdown",
      "source": [
        "### Compiling Model"
      ],
      "metadata": {
        "id": "NB6GgSLLM-Sv"
      }
    },
    {
      "cell_type": "code",
      "source": [
        "model.compile(optimizer=tf.keras.optimizers.Adam(\n",
        "    learning_rate=0.0001,\n",
        "), loss='categorical_crossentropy', metrics=['accuracy'])"
      ],
      "metadata": {
        "id": "PIRGzpUVM6iC"
      },
      "execution_count": 104,
      "outputs": []
    },
    {
      "cell_type": "code",
      "source": [
        "model.summary()"
      ],
      "metadata": {
        "id": "kdDVo529NCnE",
        "outputId": "700e8a4b-54da-4833-829a-431a2adeb669",
        "colab": {
          "base_uri": "https://localhost:8080/",
          "height": 816
        }
      },
      "execution_count": 105,
      "outputs": [
        {
          "output_type": "display_data",
          "data": {
            "text/plain": [
              "\u001b[1mModel: \"sequential_3\"\u001b[0m\n"
            ],
            "text/html": [
              "<pre style=\"white-space:pre;overflow-x:auto;line-height:normal;font-family:Menlo,'DejaVu Sans Mono',consolas,'Courier New',monospace\"><span style=\"font-weight: bold\">Model: \"sequential_3\"</span>\n",
              "</pre>\n"
            ]
          },
          "metadata": {}
        },
        {
          "output_type": "display_data",
          "data": {
            "text/plain": [
              "┏━━━━━━━━━━━━━━━━━━━━━━━━━━━━━━━━━━━━━━┳━━━━━━━━━━━━━━━━━━━━━━━━━━━━━┳━━━━━━━━━━━━━━━━━┓\n",
              "┃\u001b[1m \u001b[0m\u001b[1mLayer (type)                        \u001b[0m\u001b[1m \u001b[0m┃\u001b[1m \u001b[0m\u001b[1mOutput Shape               \u001b[0m\u001b[1m \u001b[0m┃\u001b[1m \u001b[0m\u001b[1m        Param #\u001b[0m\u001b[1m \u001b[0m┃\n",
              "┡━━━━━━━━━━━━━━━━━━━━━━━━━━━━━━━━━━━━━━╇━━━━━━━━━━━━━━━━━━━━━━━━━━━━━╇━━━━━━━━━━━━━━━━━┩\n",
              "│ conv2d_32 (\u001b[38;5;33mConv2D\u001b[0m)                   │ (\u001b[38;5;45mNone\u001b[0m, \u001b[38;5;34m128\u001b[0m, \u001b[38;5;34m128\u001b[0m, \u001b[38;5;34m32\u001b[0m)        │             \u001b[38;5;34m896\u001b[0m │\n",
              "├──────────────────────────────────────┼─────────────────────────────┼─────────────────┤\n",
              "│ conv2d_33 (\u001b[38;5;33mConv2D\u001b[0m)                   │ (\u001b[38;5;45mNone\u001b[0m, \u001b[38;5;34m126\u001b[0m, \u001b[38;5;34m126\u001b[0m, \u001b[38;5;34m32\u001b[0m)        │           \u001b[38;5;34m9,248\u001b[0m │\n",
              "├──────────────────────────────────────┼─────────────────────────────┼─────────────────┤\n",
              "│ max_pooling2d_13 (\u001b[38;5;33mMaxPooling2D\u001b[0m)      │ (\u001b[38;5;45mNone\u001b[0m, \u001b[38;5;34m63\u001b[0m, \u001b[38;5;34m63\u001b[0m, \u001b[38;5;34m32\u001b[0m)          │               \u001b[38;5;34m0\u001b[0m │\n",
              "├──────────────────────────────────────┼─────────────────────────────┼─────────────────┤\n",
              "│ conv2d_34 (\u001b[38;5;33mConv2D\u001b[0m)                   │ (\u001b[38;5;45mNone\u001b[0m, \u001b[38;5;34m63\u001b[0m, \u001b[38;5;34m63\u001b[0m, \u001b[38;5;34m64\u001b[0m)          │          \u001b[38;5;34m18,496\u001b[0m │\n",
              "├──────────────────────────────────────┼─────────────────────────────┼─────────────────┤\n",
              "│ conv2d_35 (\u001b[38;5;33mConv2D\u001b[0m)                   │ (\u001b[38;5;45mNone\u001b[0m, \u001b[38;5;34m61\u001b[0m, \u001b[38;5;34m61\u001b[0m, \u001b[38;5;34m64\u001b[0m)          │          \u001b[38;5;34m36,928\u001b[0m │\n",
              "├──────────────────────────────────────┼─────────────────────────────┼─────────────────┤\n",
              "│ max_pooling2d_14 (\u001b[38;5;33mMaxPooling2D\u001b[0m)      │ (\u001b[38;5;45mNone\u001b[0m, \u001b[38;5;34m30\u001b[0m, \u001b[38;5;34m30\u001b[0m, \u001b[38;5;34m64\u001b[0m)          │               \u001b[38;5;34m0\u001b[0m │\n",
              "├──────────────────────────────────────┼─────────────────────────────┼─────────────────┤\n",
              "│ conv2d_36 (\u001b[38;5;33mConv2D\u001b[0m)                   │ (\u001b[38;5;45mNone\u001b[0m, \u001b[38;5;34m30\u001b[0m, \u001b[38;5;34m30\u001b[0m, \u001b[38;5;34m128\u001b[0m)         │          \u001b[38;5;34m73,856\u001b[0m │\n",
              "├──────────────────────────────────────┼─────────────────────────────┼─────────────────┤\n",
              "│ conv2d_37 (\u001b[38;5;33mConv2D\u001b[0m)                   │ (\u001b[38;5;45mNone\u001b[0m, \u001b[38;5;34m28\u001b[0m, \u001b[38;5;34m28\u001b[0m, \u001b[38;5;34m128\u001b[0m)         │         \u001b[38;5;34m147,584\u001b[0m │\n",
              "├──────────────────────────────────────┼─────────────────────────────┼─────────────────┤\n",
              "│ max_pooling2d_15 (\u001b[38;5;33mMaxPooling2D\u001b[0m)      │ (\u001b[38;5;45mNone\u001b[0m, \u001b[38;5;34m14\u001b[0m, \u001b[38;5;34m14\u001b[0m, \u001b[38;5;34m128\u001b[0m)         │               \u001b[38;5;34m0\u001b[0m │\n",
              "├──────────────────────────────────────┼─────────────────────────────┼─────────────────┤\n",
              "│ conv2d_38 (\u001b[38;5;33mConv2D\u001b[0m)                   │ (\u001b[38;5;45mNone\u001b[0m, \u001b[38;5;34m14\u001b[0m, \u001b[38;5;34m14\u001b[0m, \u001b[38;5;34m256\u001b[0m)         │         \u001b[38;5;34m295,168\u001b[0m │\n",
              "├──────────────────────────────────────┼─────────────────────────────┼─────────────────┤\n",
              "│ conv2d_39 (\u001b[38;5;33mConv2D\u001b[0m)                   │ (\u001b[38;5;45mNone\u001b[0m, \u001b[38;5;34m12\u001b[0m, \u001b[38;5;34m12\u001b[0m, \u001b[38;5;34m256\u001b[0m)         │         \u001b[38;5;34m590,080\u001b[0m │\n",
              "├──────────────────────────────────────┼─────────────────────────────┼─────────────────┤\n",
              "│ max_pooling2d_16 (\u001b[38;5;33mMaxPooling2D\u001b[0m)      │ (\u001b[38;5;45mNone\u001b[0m, \u001b[38;5;34m6\u001b[0m, \u001b[38;5;34m6\u001b[0m, \u001b[38;5;34m256\u001b[0m)           │               \u001b[38;5;34m0\u001b[0m │\n",
              "├──────────────────────────────────────┼─────────────────────────────┼─────────────────┤\n",
              "│ conv2d_40 (\u001b[38;5;33mConv2D\u001b[0m)                   │ (\u001b[38;5;45mNone\u001b[0m, \u001b[38;5;34m6\u001b[0m, \u001b[38;5;34m6\u001b[0m, \u001b[38;5;34m512\u001b[0m)           │       \u001b[38;5;34m1,180,160\u001b[0m │\n",
              "├──────────────────────────────────────┼─────────────────────────────┼─────────────────┤\n",
              "│ conv2d_41 (\u001b[38;5;33mConv2D\u001b[0m)                   │ (\u001b[38;5;45mNone\u001b[0m, \u001b[38;5;34m4\u001b[0m, \u001b[38;5;34m4\u001b[0m, \u001b[38;5;34m512\u001b[0m)           │       \u001b[38;5;34m2,359,808\u001b[0m │\n",
              "├──────────────────────────────────────┼─────────────────────────────┼─────────────────┤\n",
              "│ max_pooling2d_17 (\u001b[38;5;33mMaxPooling2D\u001b[0m)      │ (\u001b[38;5;45mNone\u001b[0m, \u001b[38;5;34m2\u001b[0m, \u001b[38;5;34m2\u001b[0m, \u001b[38;5;34m512\u001b[0m)           │               \u001b[38;5;34m0\u001b[0m │\n",
              "├──────────────────────────────────────┼─────────────────────────────┼─────────────────┤\n",
              "│ dropout (\u001b[38;5;33mDropout\u001b[0m)                    │ (\u001b[38;5;45mNone\u001b[0m, \u001b[38;5;34m2\u001b[0m, \u001b[38;5;34m2\u001b[0m, \u001b[38;5;34m512\u001b[0m)           │               \u001b[38;5;34m0\u001b[0m │\n",
              "├──────────────────────────────────────┼─────────────────────────────┼─────────────────┤\n",
              "│ flatten_4 (\u001b[38;5;33mFlatten\u001b[0m)                  │ (\u001b[38;5;45mNone\u001b[0m, \u001b[38;5;34m2048\u001b[0m)                │               \u001b[38;5;34m0\u001b[0m │\n",
              "├──────────────────────────────────────┼─────────────────────────────┼─────────────────┤\n",
              "│ dense_8 (\u001b[38;5;33mDense\u001b[0m)                      │ (\u001b[38;5;45mNone\u001b[0m, \u001b[38;5;34m1500\u001b[0m)                │       \u001b[38;5;34m3,073,500\u001b[0m │\n",
              "├──────────────────────────────────────┼─────────────────────────────┼─────────────────┤\n",
              "│ dropout_1 (\u001b[38;5;33mDropout\u001b[0m)                  │ (\u001b[38;5;45mNone\u001b[0m, \u001b[38;5;34m1500\u001b[0m)                │               \u001b[38;5;34m0\u001b[0m │\n",
              "├──────────────────────────────────────┼─────────────────────────────┼─────────────────┤\n",
              "│ dense_9 (\u001b[38;5;33mDense\u001b[0m)                      │ (\u001b[38;5;45mNone\u001b[0m, \u001b[38;5;34m36\u001b[0m)                  │          \u001b[38;5;34m54,036\u001b[0m │\n",
              "└──────────────────────────────────────┴─────────────────────────────┴─────────────────┘\n"
            ],
            "text/html": [
              "<pre style=\"white-space:pre;overflow-x:auto;line-height:normal;font-family:Menlo,'DejaVu Sans Mono',consolas,'Courier New',monospace\">┏━━━━━━━━━━━━━━━━━━━━━━━━━━━━━━━━━━━━━━┳━━━━━━━━━━━━━━━━━━━━━━━━━━━━━┳━━━━━━━━━━━━━━━━━┓\n",
              "┃<span style=\"font-weight: bold\"> Layer (type)                         </span>┃<span style=\"font-weight: bold\"> Output Shape                </span>┃<span style=\"font-weight: bold\">         Param # </span>┃\n",
              "┡━━━━━━━━━━━━━━━━━━━━━━━━━━━━━━━━━━━━━━╇━━━━━━━━━━━━━━━━━━━━━━━━━━━━━╇━━━━━━━━━━━━━━━━━┩\n",
              "│ conv2d_32 (<span style=\"color: #0087ff; text-decoration-color: #0087ff\">Conv2D</span>)                   │ (<span style=\"color: #00d7ff; text-decoration-color: #00d7ff\">None</span>, <span style=\"color: #00af00; text-decoration-color: #00af00\">128</span>, <span style=\"color: #00af00; text-decoration-color: #00af00\">128</span>, <span style=\"color: #00af00; text-decoration-color: #00af00\">32</span>)        │             <span style=\"color: #00af00; text-decoration-color: #00af00\">896</span> │\n",
              "├──────────────────────────────────────┼─────────────────────────────┼─────────────────┤\n",
              "│ conv2d_33 (<span style=\"color: #0087ff; text-decoration-color: #0087ff\">Conv2D</span>)                   │ (<span style=\"color: #00d7ff; text-decoration-color: #00d7ff\">None</span>, <span style=\"color: #00af00; text-decoration-color: #00af00\">126</span>, <span style=\"color: #00af00; text-decoration-color: #00af00\">126</span>, <span style=\"color: #00af00; text-decoration-color: #00af00\">32</span>)        │           <span style=\"color: #00af00; text-decoration-color: #00af00\">9,248</span> │\n",
              "├──────────────────────────────────────┼─────────────────────────────┼─────────────────┤\n",
              "│ max_pooling2d_13 (<span style=\"color: #0087ff; text-decoration-color: #0087ff\">MaxPooling2D</span>)      │ (<span style=\"color: #00d7ff; text-decoration-color: #00d7ff\">None</span>, <span style=\"color: #00af00; text-decoration-color: #00af00\">63</span>, <span style=\"color: #00af00; text-decoration-color: #00af00\">63</span>, <span style=\"color: #00af00; text-decoration-color: #00af00\">32</span>)          │               <span style=\"color: #00af00; text-decoration-color: #00af00\">0</span> │\n",
              "├──────────────────────────────────────┼─────────────────────────────┼─────────────────┤\n",
              "│ conv2d_34 (<span style=\"color: #0087ff; text-decoration-color: #0087ff\">Conv2D</span>)                   │ (<span style=\"color: #00d7ff; text-decoration-color: #00d7ff\">None</span>, <span style=\"color: #00af00; text-decoration-color: #00af00\">63</span>, <span style=\"color: #00af00; text-decoration-color: #00af00\">63</span>, <span style=\"color: #00af00; text-decoration-color: #00af00\">64</span>)          │          <span style=\"color: #00af00; text-decoration-color: #00af00\">18,496</span> │\n",
              "├──────────────────────────────────────┼─────────────────────────────┼─────────────────┤\n",
              "│ conv2d_35 (<span style=\"color: #0087ff; text-decoration-color: #0087ff\">Conv2D</span>)                   │ (<span style=\"color: #00d7ff; text-decoration-color: #00d7ff\">None</span>, <span style=\"color: #00af00; text-decoration-color: #00af00\">61</span>, <span style=\"color: #00af00; text-decoration-color: #00af00\">61</span>, <span style=\"color: #00af00; text-decoration-color: #00af00\">64</span>)          │          <span style=\"color: #00af00; text-decoration-color: #00af00\">36,928</span> │\n",
              "├──────────────────────────────────────┼─────────────────────────────┼─────────────────┤\n",
              "│ max_pooling2d_14 (<span style=\"color: #0087ff; text-decoration-color: #0087ff\">MaxPooling2D</span>)      │ (<span style=\"color: #00d7ff; text-decoration-color: #00d7ff\">None</span>, <span style=\"color: #00af00; text-decoration-color: #00af00\">30</span>, <span style=\"color: #00af00; text-decoration-color: #00af00\">30</span>, <span style=\"color: #00af00; text-decoration-color: #00af00\">64</span>)          │               <span style=\"color: #00af00; text-decoration-color: #00af00\">0</span> │\n",
              "├──────────────────────────────────────┼─────────────────────────────┼─────────────────┤\n",
              "│ conv2d_36 (<span style=\"color: #0087ff; text-decoration-color: #0087ff\">Conv2D</span>)                   │ (<span style=\"color: #00d7ff; text-decoration-color: #00d7ff\">None</span>, <span style=\"color: #00af00; text-decoration-color: #00af00\">30</span>, <span style=\"color: #00af00; text-decoration-color: #00af00\">30</span>, <span style=\"color: #00af00; text-decoration-color: #00af00\">128</span>)         │          <span style=\"color: #00af00; text-decoration-color: #00af00\">73,856</span> │\n",
              "├──────────────────────────────────────┼─────────────────────────────┼─────────────────┤\n",
              "│ conv2d_37 (<span style=\"color: #0087ff; text-decoration-color: #0087ff\">Conv2D</span>)                   │ (<span style=\"color: #00d7ff; text-decoration-color: #00d7ff\">None</span>, <span style=\"color: #00af00; text-decoration-color: #00af00\">28</span>, <span style=\"color: #00af00; text-decoration-color: #00af00\">28</span>, <span style=\"color: #00af00; text-decoration-color: #00af00\">128</span>)         │         <span style=\"color: #00af00; text-decoration-color: #00af00\">147,584</span> │\n",
              "├──────────────────────────────────────┼─────────────────────────────┼─────────────────┤\n",
              "│ max_pooling2d_15 (<span style=\"color: #0087ff; text-decoration-color: #0087ff\">MaxPooling2D</span>)      │ (<span style=\"color: #00d7ff; text-decoration-color: #00d7ff\">None</span>, <span style=\"color: #00af00; text-decoration-color: #00af00\">14</span>, <span style=\"color: #00af00; text-decoration-color: #00af00\">14</span>, <span style=\"color: #00af00; text-decoration-color: #00af00\">128</span>)         │               <span style=\"color: #00af00; text-decoration-color: #00af00\">0</span> │\n",
              "├──────────────────────────────────────┼─────────────────────────────┼─────────────────┤\n",
              "│ conv2d_38 (<span style=\"color: #0087ff; text-decoration-color: #0087ff\">Conv2D</span>)                   │ (<span style=\"color: #00d7ff; text-decoration-color: #00d7ff\">None</span>, <span style=\"color: #00af00; text-decoration-color: #00af00\">14</span>, <span style=\"color: #00af00; text-decoration-color: #00af00\">14</span>, <span style=\"color: #00af00; text-decoration-color: #00af00\">256</span>)         │         <span style=\"color: #00af00; text-decoration-color: #00af00\">295,168</span> │\n",
              "├──────────────────────────────────────┼─────────────────────────────┼─────────────────┤\n",
              "│ conv2d_39 (<span style=\"color: #0087ff; text-decoration-color: #0087ff\">Conv2D</span>)                   │ (<span style=\"color: #00d7ff; text-decoration-color: #00d7ff\">None</span>, <span style=\"color: #00af00; text-decoration-color: #00af00\">12</span>, <span style=\"color: #00af00; text-decoration-color: #00af00\">12</span>, <span style=\"color: #00af00; text-decoration-color: #00af00\">256</span>)         │         <span style=\"color: #00af00; text-decoration-color: #00af00\">590,080</span> │\n",
              "├──────────────────────────────────────┼─────────────────────────────┼─────────────────┤\n",
              "│ max_pooling2d_16 (<span style=\"color: #0087ff; text-decoration-color: #0087ff\">MaxPooling2D</span>)      │ (<span style=\"color: #00d7ff; text-decoration-color: #00d7ff\">None</span>, <span style=\"color: #00af00; text-decoration-color: #00af00\">6</span>, <span style=\"color: #00af00; text-decoration-color: #00af00\">6</span>, <span style=\"color: #00af00; text-decoration-color: #00af00\">256</span>)           │               <span style=\"color: #00af00; text-decoration-color: #00af00\">0</span> │\n",
              "├──────────────────────────────────────┼─────────────────────────────┼─────────────────┤\n",
              "│ conv2d_40 (<span style=\"color: #0087ff; text-decoration-color: #0087ff\">Conv2D</span>)                   │ (<span style=\"color: #00d7ff; text-decoration-color: #00d7ff\">None</span>, <span style=\"color: #00af00; text-decoration-color: #00af00\">6</span>, <span style=\"color: #00af00; text-decoration-color: #00af00\">6</span>, <span style=\"color: #00af00; text-decoration-color: #00af00\">512</span>)           │       <span style=\"color: #00af00; text-decoration-color: #00af00\">1,180,160</span> │\n",
              "├──────────────────────────────────────┼─────────────────────────────┼─────────────────┤\n",
              "│ conv2d_41 (<span style=\"color: #0087ff; text-decoration-color: #0087ff\">Conv2D</span>)                   │ (<span style=\"color: #00d7ff; text-decoration-color: #00d7ff\">None</span>, <span style=\"color: #00af00; text-decoration-color: #00af00\">4</span>, <span style=\"color: #00af00; text-decoration-color: #00af00\">4</span>, <span style=\"color: #00af00; text-decoration-color: #00af00\">512</span>)           │       <span style=\"color: #00af00; text-decoration-color: #00af00\">2,359,808</span> │\n",
              "├──────────────────────────────────────┼─────────────────────────────┼─────────────────┤\n",
              "│ max_pooling2d_17 (<span style=\"color: #0087ff; text-decoration-color: #0087ff\">MaxPooling2D</span>)      │ (<span style=\"color: #00d7ff; text-decoration-color: #00d7ff\">None</span>, <span style=\"color: #00af00; text-decoration-color: #00af00\">2</span>, <span style=\"color: #00af00; text-decoration-color: #00af00\">2</span>, <span style=\"color: #00af00; text-decoration-color: #00af00\">512</span>)           │               <span style=\"color: #00af00; text-decoration-color: #00af00\">0</span> │\n",
              "├──────────────────────────────────────┼─────────────────────────────┼─────────────────┤\n",
              "│ dropout (<span style=\"color: #0087ff; text-decoration-color: #0087ff\">Dropout</span>)                    │ (<span style=\"color: #00d7ff; text-decoration-color: #00d7ff\">None</span>, <span style=\"color: #00af00; text-decoration-color: #00af00\">2</span>, <span style=\"color: #00af00; text-decoration-color: #00af00\">2</span>, <span style=\"color: #00af00; text-decoration-color: #00af00\">512</span>)           │               <span style=\"color: #00af00; text-decoration-color: #00af00\">0</span> │\n",
              "├──────────────────────────────────────┼─────────────────────────────┼─────────────────┤\n",
              "│ flatten_4 (<span style=\"color: #0087ff; text-decoration-color: #0087ff\">Flatten</span>)                  │ (<span style=\"color: #00d7ff; text-decoration-color: #00d7ff\">None</span>, <span style=\"color: #00af00; text-decoration-color: #00af00\">2048</span>)                │               <span style=\"color: #00af00; text-decoration-color: #00af00\">0</span> │\n",
              "├──────────────────────────────────────┼─────────────────────────────┼─────────────────┤\n",
              "│ dense_8 (<span style=\"color: #0087ff; text-decoration-color: #0087ff\">Dense</span>)                      │ (<span style=\"color: #00d7ff; text-decoration-color: #00d7ff\">None</span>, <span style=\"color: #00af00; text-decoration-color: #00af00\">1500</span>)                │       <span style=\"color: #00af00; text-decoration-color: #00af00\">3,073,500</span> │\n",
              "├──────────────────────────────────────┼─────────────────────────────┼─────────────────┤\n",
              "│ dropout_1 (<span style=\"color: #0087ff; text-decoration-color: #0087ff\">Dropout</span>)                  │ (<span style=\"color: #00d7ff; text-decoration-color: #00d7ff\">None</span>, <span style=\"color: #00af00; text-decoration-color: #00af00\">1500</span>)                │               <span style=\"color: #00af00; text-decoration-color: #00af00\">0</span> │\n",
              "├──────────────────────────────────────┼─────────────────────────────┼─────────────────┤\n",
              "│ dense_9 (<span style=\"color: #0087ff; text-decoration-color: #0087ff\">Dense</span>)                      │ (<span style=\"color: #00d7ff; text-decoration-color: #00d7ff\">None</span>, <span style=\"color: #00af00; text-decoration-color: #00af00\">36</span>)                  │          <span style=\"color: #00af00; text-decoration-color: #00af00\">54,036</span> │\n",
              "└──────────────────────────────────────┴─────────────────────────────┴─────────────────┘\n",
              "</pre>\n"
            ]
          },
          "metadata": {}
        },
        {
          "output_type": "display_data",
          "data": {
            "text/plain": [
              "\u001b[1m Total params: \u001b[0m\u001b[38;5;34m7,839,760\u001b[0m (29.91 MB)\n"
            ],
            "text/html": [
              "<pre style=\"white-space:pre;overflow-x:auto;line-height:normal;font-family:Menlo,'DejaVu Sans Mono',consolas,'Courier New',monospace\"><span style=\"font-weight: bold\"> Total params: </span><span style=\"color: #00af00; text-decoration-color: #00af00\">7,839,760</span> (29.91 MB)\n",
              "</pre>\n"
            ]
          },
          "metadata": {}
        },
        {
          "output_type": "display_data",
          "data": {
            "text/plain": [
              "\u001b[1m Trainable params: \u001b[0m\u001b[38;5;34m7,839,760\u001b[0m (29.91 MB)\n"
            ],
            "text/html": [
              "<pre style=\"white-space:pre;overflow-x:auto;line-height:normal;font-family:Menlo,'DejaVu Sans Mono',consolas,'Courier New',monospace\"><span style=\"font-weight: bold\"> Trainable params: </span><span style=\"color: #00af00; text-decoration-color: #00af00\">7,839,760</span> (29.91 MB)\n",
              "</pre>\n"
            ]
          },
          "metadata": {}
        },
        {
          "output_type": "display_data",
          "data": {
            "text/plain": [
              "\u001b[1m Non-trainable params: \u001b[0m\u001b[38;5;34m0\u001b[0m (0.00 B)\n"
            ],
            "text/html": [
              "<pre style=\"white-space:pre;overflow-x:auto;line-height:normal;font-family:Menlo,'DejaVu Sans Mono',consolas,'Courier New',monospace\"><span style=\"font-weight: bold\"> Non-trainable params: </span><span style=\"color: #00af00; text-decoration-color: #00af00\">0</span> (0.00 B)\n",
              "</pre>\n"
            ]
          },
          "metadata": {}
        }
      ]
    },
    {
      "cell_type": "markdown",
      "source": [
        "### Model Training"
      ],
      "metadata": {
        "id": "PpnyOJVrpAcN"
      }
    },
    {
      "cell_type": "code",
      "source": [
        "training_history = model.fit(x=training_set, validation_data=valid_set, epochs=10)"
      ],
      "metadata": {
        "id": "3paz-0OUpAB6",
        "outputId": "58e1bf00-f2c4-4f1e-be4a-55942c6a4c4d",
        "colab": {
          "base_uri": "https://localhost:8080/"
        }
      },
      "execution_count": 106,
      "outputs": [
        {
          "output_type": "stream",
          "name": "stdout",
          "text": [
            "Epoch 1/10\n",
            "\u001b[1m98/98\u001b[0m \u001b[32m━━━━━━━━━━━━━━━━━━━━\u001b[0m\u001b[37m\u001b[0m \u001b[1m552s\u001b[0m 5s/step - accuracy: 0.0401 - loss: 3.7372 - val_accuracy: 0.2479 - val_loss: 2.7278\n",
            "Epoch 2/10\n",
            "\u001b[1m98/98\u001b[0m \u001b[32m━━━━━━━━━━━━━━━━━━━━\u001b[0m\u001b[37m\u001b[0m \u001b[1m517s\u001b[0m 5s/step - accuracy: 0.1399 - loss: 2.9258 - val_accuracy: 0.3875 - val_loss: 2.1526\n",
            "Epoch 3/10\n",
            "\u001b[1m98/98\u001b[0m \u001b[32m━━━━━━━━━━━━━━━━━━━━\u001b[0m\u001b[37m\u001b[0m \u001b[1m543s\u001b[0m 5s/step - accuracy: 0.2365 - loss: 2.5739 - val_accuracy: 0.4416 - val_loss: 1.9485\n",
            "Epoch 4/10\n",
            "\u001b[1m98/98\u001b[0m \u001b[32m━━━━━━━━━━━━━━━━━━━━\u001b[0m\u001b[37m\u001b[0m \u001b[1m519s\u001b[0m 5s/step - accuracy: 0.3126 - loss: 2.3120 - val_accuracy: 0.4587 - val_loss: 1.7448\n",
            "Epoch 5/10\n",
            "\u001b[1m98/98\u001b[0m \u001b[32m━━━━━━━━━━━━━━━━━━━━\u001b[0m\u001b[37m\u001b[0m \u001b[1m562s\u001b[0m 5s/step - accuracy: 0.3544 - loss: 2.1311 - val_accuracy: 0.5613 - val_loss: 1.4759\n",
            "Epoch 6/10\n",
            "\u001b[1m98/98\u001b[0m \u001b[32m━━━━━━━━━━━━━━━━━━━━\u001b[0m\u001b[37m\u001b[0m \u001b[1m549s\u001b[0m 5s/step - accuracy: 0.3804 - loss: 2.0397 - val_accuracy: 0.5128 - val_loss: 1.5805\n",
            "Epoch 7/10\n",
            "\u001b[1m98/98\u001b[0m \u001b[32m━━━━━━━━━━━━━━━━━━━━\u001b[0m\u001b[37m\u001b[0m \u001b[1m500s\u001b[0m 5s/step - accuracy: 0.4260 - loss: 1.9194 - val_accuracy: 0.6667 - val_loss: 1.1639\n",
            "Epoch 8/10\n",
            "\u001b[1m98/98\u001b[0m \u001b[32m━━━━━━━━━━━━━━━━━━━━\u001b[0m\u001b[37m\u001b[0m \u001b[1m519s\u001b[0m 5s/step - accuracy: 0.4601 - loss: 1.7666 - val_accuracy: 0.6638 - val_loss: 1.0799\n",
            "Epoch 9/10\n",
            "\u001b[1m98/98\u001b[0m \u001b[32m━━━━━━━━━━━━━━━━━━━━\u001b[0m\u001b[37m\u001b[0m \u001b[1m574s\u001b[0m 5s/step - accuracy: 0.4642 - loss: 1.7387 - val_accuracy: 0.7578 - val_loss: 0.9374\n",
            "Epoch 10/10\n",
            "\u001b[1m98/98\u001b[0m \u001b[32m━━━━━━━━━━━━━━━━━━━━\u001b[0m\u001b[37m\u001b[0m \u001b[1m540s\u001b[0m 5s/step - accuracy: 0.5328 - loss: 1.5343 - val_accuracy: 0.7151 - val_loss: 0.8684\n"
          ]
        }
      ]
    }
  ]
}